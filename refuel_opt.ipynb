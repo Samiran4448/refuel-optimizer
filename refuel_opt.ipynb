{
 "cells": [
  {
   "cell_type": "code",
   "execution_count": 25,
   "metadata": {
    "collapsed": true
   },
   "outputs": [],
   "source": [
    "from gurobipy import *"
   ]
  },
  {
   "cell_type": "code",
   "execution_count": 26,
   "outputs": [
    {
     "name": "stdout",
     "output_type": "stream",
     "text": [
      "576\n"
     ]
    }
   ],
   "source": [
    "price=[4.84,5.05,5.17,4.92,4.87,4.92,4.98,4.88,5.20,5.36] #I190,I-290,I-294,I-355,I-55,I-57,I-80,I-88,I-90,I-94 (in this order, Chicago highway)\n",
    "Out=[0,3,1,5,3,50,100,75,70,75]#assumed randomly\n",
    "n=10 #number of gas stations\n",
    "Fuel={}\n",
    "Mile=[0,8.6,2.1,22.4,8,440,659,538,455,576]#I190,I-290,I-294,I-355,I-55,I-57,I-80,I-88,I-90,I-94 (in this order)\n",
    "#Pricei = retail diesel price (per gallon) at truck stop i\n",
    "#Outi = amount of miles that a vehicle must go outof-\n",
    "#route (OOR) to reach truck stop i\n",
    "#Milei = distance (miles) from truck stop i−1 to i (not\n",
    "#including Outi−1 or Outi)\n",
    "SF=190\n",
    "MG= 18 #The average and median fuel economy for full-size pickup trucks are 19.1 and 18 miles per gallon\n",
    "TC=200\n",
    "LF=50 # according to expert it is 1/4 of full tank capacity\n",
    "MP= 50\n",
    "EF=50\n",
    "#phi=[.2,.47,.116,1.244,.44, 24.44, 36.611,29.88,25.277,32],#miles/18\n",
    "Fuel[0]=SF\n",
    "#SF = amount of fuel (gallons) in tank at origin o\n",
    "#(starting fuel)\n",
    "#MG = average fuel consumption rate (miles per gallon\n",
    "#or MPG) for the whole trip\n",
    "#TC = vehicle tank capacity (e.g., 200 gallons)\n",
    "#LF = minimum fuel to be maintained in tank at all\n",
    "#times (lower bound fuel)\n",
    "#MP = minimum amount of fuel to purchase at truck\n",
    "#stops (e.g., 50 gallons)\n",
    "#EF = required amount of fuel in tank at the final\n",
    "#destination d (ending fuel)\n",
    "Mile_d=Mile[n-1]\n",
    "print(Mile_d)"
   ],
   "metadata": {
    "collapsed": false
   }
  },
  {
   "cell_type": "code",
   "execution_count": 27,
   "outputs": [],
   "source": [
    "model=Model(\"refuel_station\")"
   ],
   "metadata": {
    "collapsed": false
   }
  },
  {
   "cell_type": "code",
   "execution_count": 28,
   "outputs": [],
   "source": [
    "phi,delta={},{}\n",
    "for i in range(n):\n",
    "        phi[i]=model.addVar(vtype=GRB.INTEGER)\n",
    "for i in range(n):\n",
    "    delta[i]=model.addVar(vtype=GRB.BINARY)\n",
    "model.update()\n"
   ],
   "metadata": {
    "collapsed": false
   }
  },
  {
   "cell_type": "code",
   "execution_count": 29,
   "outputs": [],
   "source": [
    "if i==0:\n",
    "  Fuel[i]= SF - (Mile[i] + delta[i]*Out[i])/MG\n",
    "else:\n",
    "  for i in range(1,n):\n",
    "    Fuel[i] = Fuel[i-1] + phi[i-1] - (delta[i-1]*Out[i-1]+Mile[i]+delta[i]*Out[i])/MG\n",
    "Fuel_d = Fuel[n-2] + phi[n-2] - (delta[n-2]*Out[n-2] + Mile[n-1])/MG # n-2 is used as it is the second last stoppage. However, for Miles, n-1 is used as the distance between truck stop n and the\n",
    "#destination d"
   ],
   "metadata": {
    "collapsed": false
   }
  },
  {
   "cell_type": "code",
   "execution_count": 30,
   "outputs": [],
   "source": [
    "for i in range(n):\n",
    "    model.addConstr(Fuel[i]>=LF)"
   ],
   "metadata": {
    "collapsed": false
   }
  },
  {
   "cell_type": "code",
   "execution_count": 31,
   "outputs": [
    {
     "data": {
      "text/plain": "<gurobi.Constr *Awaiting Model Update*>"
     },
     "execution_count": 31,
     "metadata": {},
     "output_type": "execute_result"
    }
   ],
   "source": [
    "model.addConstr(Fuel_d>=EF)"
   ],
   "metadata": {
    "collapsed": false
   }
  },
  {
   "cell_type": "code",
   "execution_count": 32,
   "outputs": [],
   "source": [
    "for i in range(n):\n",
    "    model.addConstr(phi[i]>=delta[i]*MP)"
   ],
   "metadata": {
    "collapsed": false
   }
  },
  {
   "cell_type": "code",
   "execution_count": 33,
   "outputs": [],
   "source": [
    "for i in range(n):\n",
    "    model.addConstr(phi[i]<=delta[i]*TC)"
   ],
   "metadata": {
    "collapsed": false
   }
  },
  {
   "cell_type": "code",
   "execution_count": 34,
   "outputs": [],
   "source": [
    "for i in range(n):\n",
    "    model.addConstr(Fuel[i]+phi[i]<=TC)"
   ],
   "metadata": {
    "collapsed": false
   }
  },
  {
   "cell_type": "code",
   "execution_count": 35,
   "outputs": [],
   "source": [
    "obj=quicksum(price[i]*phi[i]for i in range(n))\n",
    "model.setObjective(obj)"
   ],
   "metadata": {
    "collapsed": false
   }
  },
  {
   "cell_type": "code",
   "execution_count": 36,
   "outputs": [
    {
     "name": "stdout",
     "output_type": "stream",
     "text": [
      "Gurobi Optimizer version 9.5.2 build v9.5.2rc0 (mac64[rosetta2])\n",
      "Thread count: 8 physical cores, 8 logical processors, using up to 8 threads\n",
      "Optimize a model with 41 rows, 20 columns and 247 nonzeros\n",
      "Model fingerprint: 0x044b5b8c\n",
      "Variable types: 0 continuous, 20 integer (10 binary)\n",
      "Coefficient statistics:\n",
      "  Matrix range     [6e-02, 2e+02]\n",
      "  Objective range  [5e+00, 5e+00]\n",
      "  Bounds range     [1e+00, 1e+00]\n",
      "  RHS range        [1e+01, 2e+02]\n",
      "Found heuristic solution: objective 260.0000000\n",
      "Presolve removed 41 rows and 20 columns\n",
      "Presolve time: 0.00s\n",
      "Presolve: All rows and columns removed\n",
      "\n",
      "Explored 0 nodes (0 simplex iterations) in 0.00 seconds (0.00 work units)\n",
      "Thread count was 1 (of 8 available processors)\n",
      "\n",
      "Solution count 2: 244 260 \n",
      "\n",
      "Optimal solution found (tolerance 1.00e-04)\n",
      "Best objective 2.440000000000e+02, best bound 2.440000000000e+02, gap 0.0000%\n"
     ]
    }
   ],
   "source": [
    "model.update()\n",
    "model.optimize()"
   ],
   "metadata": {
    "collapsed": false
   }
  }
 ],
 "metadata": {
  "kernelspec": {
   "display_name": "Python 3",
   "language": "python",
   "name": "python3"
  },
  "language_info": {
   "codemirror_mode": {
    "name": "ipython",
    "version": 2
   },
   "file_extension": ".py",
   "mimetype": "text/x-python",
   "name": "python",
   "nbconvert_exporter": "python",
   "pygments_lexer": "ipython2",
   "version": "2.7.6"
  }
 },
 "nbformat": 4,
 "nbformat_minor": 0
}
