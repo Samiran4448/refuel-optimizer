{
 "cells": [
  {
   "cell_type": "markdown",
   "source": [
    "## Pricing Estimate"
   ],
   "metadata": {
    "collapsed": false
   }
  },
  {
   "cell_type": "code",
   "execution_count": 35,
   "metadata": {
    "collapsed": true
   },
   "outputs": [
    {
     "ename": "IndentationError",
     "evalue": "expected an indented block (2443594908.py, line 22)",
     "output_type": "error",
     "traceback": [
      "\u001B[0;36m  Input \u001B[0;32mIn [35]\u001B[0;36m\u001B[0m\n\u001B[0;31m    location = geolocator.reverse((df[lat_field], df[lon_field]))\u001B[0m\n\u001B[0m    ^\u001B[0m\n\u001B[0;31mIndentationError\u001B[0m\u001B[0;31m:\u001B[0m expected an indented block\n"
     ]
    }
   ],
   "source": [
    "import pgeocode\n",
    "import geopy\n",
    "import pandas as pd\n",
    "\n",
    "\n",
    "import geopy\n",
    "from geopy.geocoders import Nominatim\n",
    "from geopy.extra.rate_limiter import RateLimiter\n",
    "\n",
    "zip = (29.39291,-98.50925 )\n",
    "\n",
    "geolocator = Nominatim(user_agent=\"myGeocoder\")\n",
    "location = geolocator.geocode(zip)\n",
    "print(str(location))\n",
    "\n",
    "from uszipcode import SearchEngine\n",
    "\n",
    "def pricing ( G , node) :\n",
    "\n",
    "\n",
    "    def get_zipcode(df, geolocator, lat_field, lon_field):\n",
    "    location = geolocator.reverse((df[lat_field], df[lon_field]))\n",
    "    return location.raw['address']['postcode']\n",
    "\n",
    "\n",
    "    geolocator = geopy.Nominatim(user_agent='my-application')\n",
    "\n",
    "    df = pd.DataFrame({\n",
    "    'Lat': [29.39291, 29.39923, 29.40147, 29.38752, 29.39291, 29.39537, 29.39343, 29.39291, 29.39556],\n",
    "    'Lon': [-98.50925, -98.51256, -98.51123, -98.52372, -98.50925, -98.50402, -98.49707, -98.50925, -98.53148]\n",
    "    })\n",
    "    zipcodes = df.apply(get_zipcode, axis=1, geolocator=geolocator, lat_field='Lat', lon_field='Lon')\n",
    "\n",
    "\n",
    "\n",
    "\n",
    "    engine = SearchEngine()\n",
    "    zipcode = engine.by_zipcode(60007)\n",
    "    print(zipcode.zipcode, zipcode.major_city, zipcode.population_density, zipcode.population)\n",
    "    c=zipcode.population_density\n",
    "    sum_pd=0\n",
    "    for i in range(max(zipcode.zipcode)):\n",
    "      sum_pd+= zipcode.population_density\n",
    "    avg_pd= sum_pd/max(zipcode.zipcode)\n",
    "    ci= c- avg_pd\n",
    "    mu = 5\n",
    "    sigma = 2\n",
    "    price= mu + (ci* sigma)\n",
    "return price"
   ]
  },
  {
   "cell_type": "code",
   "execution_count": null,
   "outputs": [],
   "source": [],
   "metadata": {
    "collapsed": false
   }
  }
 ],
 "metadata": {
  "kernelspec": {
   "display_name": "Python 3",
   "language": "python",
   "name": "python3"
  },
  "language_info": {
   "codemirror_mode": {
    "name": "ipython",
    "version": 2
   },
   "file_extension": ".py",
   "mimetype": "text/x-python",
   "name": "python",
   "nbconvert_exporter": "python",
   "pygments_lexer": "ipython2",
   "version": "2.7.6"
  }
 },
 "nbformat": 4,
 "nbformat_minor": 0
}
