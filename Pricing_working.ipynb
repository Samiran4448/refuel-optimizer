{
 "cells": [
  {
   "cell_type": "code",
   "execution_count": 91,
   "metadata": {
    "collapsed": true
   },
   "outputs": [
    {
     "name": "stdout",
     "output_type": "stream",
     "text": [
      "60604\n",
      "60604 Chicago 6157.0 570\n",
      "6157.0\n",
      "5.423846153846154\n"
     ]
    }
   ],
   "source": [
    "import pgeocode\n",
    "import geopy\n",
    "import pandas as pd\n",
    "import arcgis\n",
    "\n",
    "import geopy\n",
    "from geopy.geocoders import Nominatim\n",
    "from geopy.extra.rate_limiter import RateLimiter\n",
    "\n",
    "from arcgis.geocoding import reverse_geocode\n",
    "from arcgis.geometry import Geometry\n",
    "from arcgis.gis import GIS\n",
    "import pandas as pd\n",
    "\n",
    "gis = GIS(\"http://www.arcgis.com\", \"vishal2725\", \"Vishal%2705\")\n",
    "\"\"\"\n",
    "def get_zip(df, lon_field, lat_field):\n",
    "    location = reverse_geocode((Geometry({\"x\":float(df[lon_field]), \"y\":float(df[lat_field]), \"spatialReference\":{\"wkid\": 4326}})))\n",
    "    return location['address']['Postal']\n",
    "\n",
    "df = pd.DataFrame({\n",
    "    'Lat': [29.39291, 29.39923, 29.40147, 29.38752, 29.39291, 29.39537, 29.39343, 29.39291, 29.39556],\n",
    "    'Lon': [-98.50925, -98.51256, -98.51123, -98.52372, -98.50925, -98.50402, -98.49707, -98.50925, -98.53148]\n",
    "})\n",
    "\n",
    "zipcodes = df.apply(get_zip, axis=1, lat_field='Lat', lon_field='Lon')\n",
    "print(zipcodes)\n",
    "\n",
    "\n",
    "\n",
    "zip = zipcodes[0]\n",
    "print(zip)\n",
    "\n",
    "geolocator = Nominatim(user_agent=\"myGeocoder\")\n",
    "location = geolocator.geocode(61801)\n",
    "print(str(location))\n",
    "\n",
    "\n",
    "from uszipcode import SearchEngine\n",
    "engine = SearchEngine()\n",
    "zipcodes = engine.by_coordinates(41.8781, -87.6298, radius=0.5)\n",
    "for zipcode in zipcodes:\n",
    "    print(zipcode.zipcode, zipcode.major_city, zipcode.population_density)\n",
    "\"\"\"\n",
    "\n",
    "def pricing () :\n",
    "    def get_zipcode(df, geolocator, lat_field, lon_field):\n",
    "     location = geolocator.reverse((df[lat_field], df[lon_field]))\n",
    "     return location.raw['address']['postcode']\n",
    "\n",
    "    geolocator = geopy.Nominatim(user_agent='myGeocoder')\n",
    "    df = pd.DataFrame({'Lat': [41.8781],'Lon': [-87.6298]  })\n",
    "    zipcodes = df.apply(get_zipcode, axis=1, geolocator=geolocator, lat_field='Lat', lon_field='Lon')\n",
    "    code=zipcodes[0]\n",
    "    print(code)\n",
    "\n",
    "    engine = SearchEngine()\n",
    "    zipcode = engine.by_zipcode(code)\n",
    "    c=zipcode.population_density\n",
    "    print(zipcode.zipcode, zipcode.major_city, zipcode.population_density, zipcode.population)\n",
    "    print(c)\n",
    "    avg_pd=3402\n",
    "    overall_pd=13000\n",
    "    ci=(zipcode.population_density-avg_pd)/overall_pd\n",
    "\n",
    "\n",
    "    mu = 5\n",
    "    sigma = 2\n",
    "    price= mu + (ci* sigma)\n",
    "    return price\n",
    "\n",
    "\n",
    "    sum_pd=0\n",
    "    for i in range(max(zipcode.zipcode)):\n",
    "      sum_pd+= zipcode.population_density\n",
    "    avg_pd= sum_pd/max(zipcode.zipcode)\n",
    "    ci= c- avg_pd\n",
    "\n",
    "\n",
    "    return price\n",
    "\n",
    "\n",
    "print(pricing())\n",
    "\n"
   ]
  },
  {
   "cell_type": "code",
   "execution_count": 21,
   "outputs": [
    {
     "name": "stdout",
     "output_type": "stream",
     "text": [
      "0    78204\n",
      "1    78204\n",
      "2    78204\n",
      "3    78225\n",
      "4    78204\n",
      "5    78204\n",
      "6    78204\n",
      "7    78204\n",
      "8    78225\n",
      "dtype: object\n"
     ]
    }
   ],
   "source": [
    "import arcgis\n",
    "from arcgis.geocoding import reverse_geocode\n",
    "from arcgis.geometry import Geometry\n",
    "from arcgis.gis import GIS\n",
    "import pandas as pd\n",
    "\n",
    "gis = GIS(\"http://www.arcgis.com\", \"vishal2725\", \"Vishal%2705\")\n",
    "\n",
    "def get_zip(df, lon_field, lat_field):\n",
    "    location = reverse_geocode((Geometry({\"x\":float(df[lon_field]), \"y\":float(df[lat_field]), \"spatialReference\":{\"wkid\": 4326}})))\n",
    "    return location['address']['Postal']\n",
    "\n",
    "df = pd.DataFrame({\n",
    "    'Lat': [29.39291, 29.39923, 29.40147, 29.38752, 29.39291, 29.39537, 29.39343, 29.39291, 29.39556],\n",
    "    'Lon': [-98.50925, -98.51256, -98.51123, -98.52372, -98.50925, -98.50402, -98.49707, -98.50925, -98.53148]\n",
    "})\n",
    "\n",
    "zipcodes = df.apply(get_zip, axis=1, lat_field='Lat', lon_field='Lon')\n",
    "print(zipcodes)"
   ],
   "metadata": {
    "collapsed": false
   }
  },
  {
   "cell_type": "code",
   "execution_count": null,
   "outputs": [],
   "source": [],
   "metadata": {
    "collapsed": false
   }
  }
 ],
 "metadata": {
  "kernelspec": {
   "display_name": "Python 3",
   "language": "python",
   "name": "python3"
  },
  "language_info": {
   "codemirror_mode": {
    "name": "ipython",
    "version": 2
   },
   "file_extension": ".py",
   "mimetype": "text/x-python",
   "name": "python",
   "nbconvert_exporter": "python",
   "pygments_lexer": "ipython2",
   "version": "2.7.6"
  }
 },
 "nbformat": 4,
 "nbformat_minor": 0
}
