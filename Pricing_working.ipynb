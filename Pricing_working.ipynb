{
 "cells": [
  {
   "cell_type": "code",
   "execution_count": 3,
   "id": "5e386ae0",
   "metadata": {},
   "outputs": [
    {
     "name": "stdout",
     "output_type": "stream",
     "text": [
      "62969\n",
      "62969 Olive Branch , population density =  37.0 , population =  731\n",
      "37.0\n",
      "price= 4.241\n"
     ]
    },
    {
     "data": {
      "text/plain": "(37.0, 4.241300000000001)"
     },
     "execution_count": 3,
     "metadata": {},
     "output_type": "execute_result"
    }
   ],
   "source": [
    "import geopy\n",
    "from uszipcode import SearchEngine\n",
    "from arcgis.gis import GIS\n",
    "import pandas as pd\n",
    "\n",
    "gis = GIS(\"http://www.arcgis.com\", \"vishal2725\", \"Vishal%2705\")\n",
    "\n",
    "def get_zipcode(df, geolocator, lat_field, lon_field):\n",
    "        location = geolocator.reverse((df[lat_field], df[lon_field]))\n",
    "        return location.raw['address']['postcode']\n",
    "\n",
    "def pricing(xc, yc):\n",
    "    geolocator = geopy.Nominatim(user_agent='myGeocoder')\n",
    "    df = pd.DataFrame({'x': [xc],'y': [yc]  })\n",
    "    zipcodes = df.apply(get_zipcode, axis=1, geolocator=geolocator, lat_field='x', lon_field='y')\n",
    "    code=zipcodes[0]\n",
    "    print(code)\n",
    "\n",
    "    engine = SearchEngine()\n",
    "    info = engine.by_zipcode(code)\n",
    "    c=info.population_density\n",
    "    print(info.zipcode, info.major_city,\", population density = \",info.population_density,\", population = \",info.population)\n",
    "    print(c)\n",
    "## We need to compute the average population density and the overall/total population density\n",
    "    avg_pd=87.44    #Illinois average population density\n",
    "    overall_pd=13000\n",
    "    ci=(info.population_density-avg_pd)/overall_pd\n",
    "\n",
    "    mu = 4.251  #Average gas price/gallon in illinois (taken from https://gasprices.aaa.com/state-gas-price-averages/)\n",
    "    sigma = 2.5 # Roughly estimated figure\n",
    "    price= mu + (ci* sigma)\n",
    "    print(\"price= \" + str(round(price,3)))   ##displaying price --> to be removed\n",
    "    return c, price\n",
    "\n",
    "pricing(37.1300415, -89.2742343)"
   ]
  },
  {
   "cell_type": "code",
   "execution_count": 1,
   "id": "c7a92a25",
   "metadata": {},
   "outputs": [],
   "source": []
  }
 ],
 "metadata": {
  "kernelspec": {
   "display_name": "Python 3 (ipykernel)",
   "language": "python",
   "name": "python3"
  },
  "language_info": {
   "codemirror_mode": {
    "name": "ipython",
    "version": 3
   },
   "file_extension": ".py",
   "mimetype": "text/x-python",
   "name": "python",
   "nbconvert_exporter": "python",
   "pygments_lexer": "ipython3",
   "version": "3.9.12"
  }
 },
 "nbformat": 4,
 "nbformat_minor": 5
}
